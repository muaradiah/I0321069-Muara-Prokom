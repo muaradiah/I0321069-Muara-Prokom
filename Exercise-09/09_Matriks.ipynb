{
 "cells": [
  {
   "cell_type": "markdown",
   "metadata": {},
   "source": [
    "# Exercise 09  \n",
    "### OPERASI MATRIKS  \n",
    "Silahkan lengkapi kode yang rumpang sesuai perintah yang diberikan.\n"
   ]
  },
  {
   "cell_type": "markdown",
   "metadata": {},
   "source": [
    "![](./image/1.png)"
   ]
  },
  {
   "cell_type": "code",
   "execution_count": 14,
   "metadata": {},
   "outputs": [
    {
     "name": "stdout",
     "output_type": "stream",
     "text": [
      "[[73, 73], [73, 73]]\n",
      "[[65, 65], [65, 65]]\n"
     ]
    }
   ],
   "source": [
    "A = [[73,73],\n",
    "     [73,73]]\n",
    "\n",
    "B = [[65, 65],\n",
    "     [65, 65]]\n",
    "\n",
    "print (A)\n",
    "print (B)\n"
   ]
  },
  {
   "cell_type": "markdown",
   "metadata": {},
   "source": [
    "Buatlah matriks menggunakan metode perulangan for dengan ketentuan sebagai berikut:\n",
    "* Matriks A berisi angka sebesar 4 setelah nim kalian. (ex: nim = 12, nilai matriks [16, 16],[16,16])\n",
    "* Matriks B berisi angka sebesar 4 sebelum nim kalian. (ex: nim = 12, nilai matriks [8, 8],[8,8])\n"
   ]
  },
  {
   "cell_type": "code",
   "execution_count": 15,
   "metadata": {},
   "outputs": [
    {
     "name": "stdout",
     "output_type": "stream",
     "text": [
      "[[73, 73], [73, 73]]\n",
      "[[65, 65], [65, 65]]\n"
     ]
    }
   ],
   "source": [
    "def create(matriks, nim):\n",
    "    for i in range (2):\n",
    "        for k in range (2):\n",
    "            matriks[i][k] = nim \n",
    "create(A, 73)\n",
    "create(B, 65)\n",
    "\n",
    "print(A)\n",
    "print(B)"
   ]
  },
  {
   "cell_type": "markdown",
   "metadata": {},
   "source": [
    "## KERJAKAN SOAL BERIKUT\n",
    "1. Buatlah program penjumlahan matriks A dan B.\n",
    "2. Buatlah program pengurangan matriks A dan B.\n",
    "3. Buatlah program perkalian matriks A dan B."
   ]
  },
  {
   "cell_type": "code",
   "execution_count": 16,
   "metadata": {},
   "outputs": [
    {
     "name": "stdout",
     "output_type": "stream",
     "text": [
      "[ [ 138 138 ]\n"
     ]
    }
   ],
   "source": [
    "#SOAL-1\n",
    "#YOUR CODE HERE\n",
    "#Penjumlahan Matriks\n",
    "A = [[73, 73],\n",
    "     [73, 73],]\n",
    "\n",
    "B = [[65, 65],\n",
    "     [65, 65],]\n",
    "\n",
    "for x in range(len(A)):\n",
    "     print(\"[\", end =\" \")\n",
    "for y in range(len(B)):\n",
    "          mat = A[x][y] + B[x][y]\n",
    "          print(mat, end=' '),\n",
    "print(\"]\")"
   ]
  },
  {
   "cell_type": "code",
   "execution_count": 17,
   "metadata": {},
   "outputs": [
    {
     "name": "stdout",
     "output_type": "stream",
     "text": [
      "[ [ 8 8 ]\n"
     ]
    }
   ],
   "source": [
    "#SOAL-2\n",
    "#YOUR CODE HERE\n",
    "A = [[73, 73],\n",
    "     [73, 73],]\n",
    "\n",
    "B = [[65, 65],\n",
    "     [65, 65],]\n",
    "\n",
    "for x in range(len(A)):\n",
    "     print(\"[\", end = \" \")\n",
    "for y in range(len(B)):\n",
    "     print(A[x][y] - B[x][y], end= ' '),\n",
    "print(\"]\")"
   ]
  },
  {
   "cell_type": "code",
   "execution_count": 18,
   "metadata": {},
   "outputs": [
    {
     "name": "stdout",
     "output_type": "stream",
     "text": [
      "[4745, 4745]\n",
      "[4745, 4745]\n"
     ]
    }
   ],
   "source": [
    "#SOAL-3\n",
    "#YOUR CODE HERE\n",
    "#Perkalian Matriks\n",
    "A = [[73, 73],\n",
    "     [73, 73],]\n",
    "\n",
    "B = [[65, 65],\n",
    "     [65, 65],]\n",
    "\n",
    "X = [[0, 0],\n",
    "     [0, 0],]\n",
    "\n",
    "#memparsing baris matriks A\n",
    "for i in range(len(A)):\n",
    "    #memparsing kolom matriks B\n",
    "    for j in range(len(B[0])):\n",
    "        #memparsing baris matriks X\n",
    "        for k in range(len(X)):\n",
    "            X[i][j] =+ A[i][k] * B[k][j]\n",
    "\n",
    "for hasil in X:\n",
    "    print(hasil)"
   ]
  },
  {
   "cell_type": "markdown",
   "metadata": {},
   "source": [
    "### Cara Pengumpulan\n",
    "\n",
    "1. Buka *New Terminal*\n",
    "2. Pastikan *path* Terminal adalah folder repositori kalian (NIM-Nama-Prokom).\n",
    "3. Tambahkan file yang akan ditrack dengan `git add <nama file>`. Nama file bisa diubah . (titik)  `git add .`yang artinya semua file dalam folder akan ditrack.\n",
    "4. Lakukan commit perubahan dengan `git commit -m <deskripsi>`.\n",
    "5. Lakukan push dengan `git push -u origin <nama branch>`. Nama branch dapat diketahui dengan `git branch`.\n",
    "6. Pastikan Exercise-02 telah terupload dan dapat diakses di repositori dengan mengaksesnya di browser."
   ]
  }
 ],
 "metadata": {
  "interpreter": {
   "hash": "df95319d8ce4e1d89f5365ae10992bc1f65da593082b1d264e8f529830ec2f02"
  },
  "kernelspec": {
   "display_name": "Python 3.10.2 64-bit",
   "language": "python",
   "name": "python3"
  },
  "language_info": {
   "codemirror_mode": {
    "name": "ipython",
    "version": 3
   },
   "file_extension": ".py",
   "mimetype": "text/x-python",
   "name": "python",
   "nbconvert_exporter": "python",
   "pygments_lexer": "ipython3",
   "version": "3.10.2"
  },
  "orig_nbformat": 4
 },
 "nbformat": 4,
 "nbformat_minor": 2
}
