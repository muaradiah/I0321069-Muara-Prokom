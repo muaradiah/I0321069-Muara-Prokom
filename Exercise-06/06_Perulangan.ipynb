{
 "cells": [
  {
   "cell_type": "markdown",
   "metadata": {},
   "source": [
    "***\n",
    "<h1 align=\"center\">Exercise 06</h1>\n",
    " \n",
    "***\n",
    "## While Loop\n",
    "## Exercise 6.1\n",
    "isilah bagian rumpang berikut. xx diganti tanggal lahir dan yy diganti menjadi bulan lahir. tandanya menyesuaikan yang lebih besar."
   ]
  },
  {
   "cell_type": "code",
   "execution_count": 1,
   "metadata": {},
   "outputs": [
    {
     "name": "stdout",
     "output_type": "stream",
     "text": [
      "Dear me, i know you are scared, but you can handle this\n",
      "Dear me, i know you are scared, but you can handle this\n",
      "Dear me, i know you are scared, but you can handle this\n",
      "Dear me, i know you are scared, but you can handle this\n",
      "Dear me, i know you are scared, but you can handle this\n",
      "Dear me, i know you are scared, but you can handle this\n",
      "Dear me, i know you are scared, but you can handle this\n"
     ]
    }
   ],
   "source": [
    "#menentukan banyak pengulangan\n",
    "n = 9\n",
    "\n",
    "#melakukan pengulangan\n",
    "i = 3\n",
    "\n",
    "while i <= n :\n",
    "    print (\"Dear me, i know you are scared, but you can handle this\")\n",
    "    #diisi motto kalian\n",
    "    i = i + 1 # sesuaikan dengan atas agar fungsi perulangan dapat berhenti\n"
   ]
  },
  {
   "cell_type": "markdown",
   "metadata": {},
   "source": [
    "## Exercise 6.2\n",
    "\n",
    "Buatlah code seperti yang dicontohkan pada modul agar user dapat menginputkan sendiri jumlah n yang diinginkan"
   ]
  },
  {
   "cell_type": "code",
   "execution_count": 3,
   "metadata": {},
   "outputs": [
    {
     "name": "stdout",
     "output_type": "stream",
     "text": [
      "3\n",
      "4\n",
      "5\n",
      "6\n",
      "7\n",
      "8\n",
      "9\n"
     ]
    }
   ],
   "source": [
    "#Kerjakan disini\n",
    "#menentukan banyak pengulangan\n",
    "n = int(input(\"input nilai n: \"))\n",
    "\n",
    "#melakukan pengulangan\n",
    "i = 3\n",
    "\n",
    "while i <= n :\n",
    "    print (i)\n",
    "    i = i + 1"
   ]
  },
  {
   "cell_type": "markdown",
   "metadata": {},
   "source": [
    "## Excercise 6.3\n",
    "\n",
    "isilah xx, yy, dan tanda rumpang seperti pada exercise 6.1\n"
   ]
  },
  {
   "cell_type": "code",
   "execution_count": 4,
   "metadata": {},
   "outputs": [
    {
     "name": "stdout",
     "output_type": "stream",
     "text": [
      "Baris ke-9 : ...Miracle in Cell No. 7\n",
      "Baris ke-10 : ...Miracle in Cell No. 7\n",
      "Baris ke-11 : ...Miracle in Cell No. 7\n",
      "Baris ke-12 : ...Miracle in Cell No. 7\n",
      "Baris ke-13 : ...Miracle in Cell No. 7\n",
      "Baris ke-14 : ...Miracle in Cell No. 7\n",
      "Baris ke-15 : ...Miracle in Cell No. 7\n",
      "Baris ke-16 : ...Miracle in Cell No. 7\n",
      "Baris ke-17 : ...Miracle in Cell No. 7\n",
      "Baris ke-18 : ...Miracle in Cell No. 7\n",
      "Baris ke-19 : ...Miracle in Cell No. 7\n",
      "Baris ke-20 : ...Miracle in Cell No. 7\n",
      "Baris ke-21 : ...Miracle in Cell No. 7\n",
      "Baris ke-22 : ...Miracle in Cell No. 7\n",
      "Baris ke-23 : ...Miracle in Cell No. 7\n",
      "Baris ke-24 : ...Miracle in Cell No. 7\n",
      "Baris ke-25 : ...Miracle in Cell No. 7\n",
      "Saya membatasi pengulangan hingga 25\n"
     ]
    }
   ],
   "source": [
    "#melakukan pengulangan\n",
    "i = 9\n",
    "\n",
    "while i >= 3 :\n",
    "    print (\"Baris ke-%d : ...Miracle in Cell No. 7\"%i)\n",
    "    if i == 25 :\n",
    "        print(\"Saya membatasi pengulangan hingga 25\")\n",
    "        break\n",
    "    #isi titik-titik dengan judul film favorit kalian\n",
    "    i = i + 1 "
   ]
  },
  {
   "cell_type": "markdown",
   "metadata": {},
   "source": [
    "## FOR LOOP\n",
    "\n",
    "## Exercise 6.4\n",
    "\n",
    "munculkan 3 dari 7 elemen yang berada di dalam list1 dan list2\n"
   ]
  },
  {
   "cell_type": "code",
   "execution_count": 5,
   "metadata": {},
   "outputs": [
    {
     "name": "stdout",
     "output_type": "stream",
     "text": [
      "4 ['rendang, gudeg, rawon, ayam bakar, bakso, nasi goreng, mie'] ['solo, jogja, semarang, surabaya, bandung, jakarta, bali']\n",
      "5 ['rendang, gudeg, rawon, ayam bakar, bakso, nasi goreng, mie'] ['solo, jogja, semarang, surabaya, bandung, jakarta, bali']\n",
      "6 ['rendang, gudeg, rawon, ayam bakar, bakso, nasi goreng, mie'] ['solo, jogja, semarang, surabaya, bandung, jakarta, bali']\n",
      "7 ['rendang, gudeg, rawon, ayam bakar, bakso, nasi goreng, mie'] ['solo, jogja, semarang, surabaya, bandung, jakarta, bali']\n"
     ]
    }
   ],
   "source": [
    "list1 = [\"rendang, gudeg, rawon, ayam bakar, bakso, nasi goreng, mie\"] #masukkan 7 list makanan favorit kalian\n",
    "list2 = [\"solo, jogja, semarang, surabaya, bandung, jakarta, bali\"] #masukkan 7 list kota favorit kalian\n",
    "\n",
    "for i in range(3,7) :\n",
    "    print(i+1, list1 , list2)"
   ]
  },
  {
   "cell_type": "markdown",
   "metadata": {},
   "source": [
    "## Perulangan Bersarang\n",
    "\n",
    "## Exercise 6.5"
   ]
  },
  {
   "cell_type": "code",
   "execution_count": 9,
   "metadata": {},
   "outputs": [],
   "source": [
    "i = 9\n",
    "while i <= 3:\n",
    "    j = 9\n",
    "    while j<=i:\n",
    "        print(\"%d \" % (i*j), end = '')\n",
    "        j = j + 1\n",
    "    print()\n",
    "    i+=1"
   ]
  },
  {
   "cell_type": "markdown",
   "metadata": {},
   "source": [
    "## Pernyataan Loncat\n",
    "\n",
    "## Exercise 6.\n",
    "\n",
    "Buatlah fungsi berikut agar muncul angka hingga berhenti sesuai dengan nilai qq\n",
    "qq = angka favorit kalian\n",
    "pp>qq"
   ]
  },
  {
   "cell_type": "code",
   "execution_count": 10,
   "metadata": {},
   "outputs": [
    {
     "name": "stdout",
     "output_type": "stream",
     "text": [
      "0123456"
     ]
    }
   ],
   "source": [
    "for i in range(7):\n",
    "    print(i,end='')\n",
    "    if i == 8:\n",
    "        break"
   ]
  },
  {
   "cell_type": "markdown",
   "metadata": {},
   "source": [
    "***\n",
    "<h1 align=\"center\">WELL DONE</h1>\n",
    " \n",
    "***"
   ]
  }
 ],
 "metadata": {
  "interpreter": {
   "hash": "cd08f94adcf3cbae37fe85286256f4c2a10455ca9094fd053e9f3d3f09647223"
  },
  "kernelspec": {
   "display_name": "Python 3.9.7 64-bit",
   "language": "python",
   "name": "python3"
  },
  "language_info": {
   "codemirror_mode": {
    "name": "ipython",
    "version": 3
   },
   "file_extension": ".py",
   "mimetype": "text/x-python",
   "name": "python",
   "nbconvert_exporter": "python",
   "pygments_lexer": "ipython3",
   "version": "3.10.2"
  },
  "orig_nbformat": 4
 },
 "nbformat": 4,
 "nbformat_minor": 2
}
