{
 "cells": [
  {
   "cell_type": "markdown",
   "metadata": {},
   "source": [
    "# Exercise 8\n",
    "1. Fungsi is_sentence_case merupakan fungsi yang mengembalikan nilai boolean True jika huruf pertama pada input string berupa huruf kapital atau mengembalikan nilai boolean False jika huruf pertama pada input string bukan berupa huruf kapital. Salinlah kode dibawah ini dan lengkapi kode yang rumpang sehingga menghasilkan input yang diinginkan\n",
    "![](./images/08_FungsiFungsiString01.png)"
   ]
  },
  {
   "cell_type": "code",
   "execution_count": 3,
   "metadata": {},
   "outputs": [
    {
     "name": "stdout",
     "output_type": "stream",
     "text": [
      "True\n",
      "False\n"
     ]
    }
   ],
   "source": [
    "#Kerjakan nomor 1 disini\n",
    "def is_sentence_case(str):\n",
    "    if str[0].isupper():\n",
    "        return True\n",
    "    else:\n",
    "        return False\n",
    "\n",
    "print(is_sentence_case(\"Aku suka bahasa pemrograman python\")) #Seharusnya muncul output True\n",
    "print(is_sentence_case(\"aku suka bahasa pemrograman python\")) #Seharusnya muncul output False"
   ]
  },
  {
   "cell_type": "markdown",
   "metadata": {},
   "source": [
    "2. Fungsi vowel_letters_count merupakan fungsi yang mengembalikan jumlah huruf vokal pada input kalimat. Salinlah kode berikut dan lengkapi kode sehingga menghasilkan output yang diinginkan\n",
    "![](./images/08_FungsiFungsiString02.png)"
   ]
  },
  {
   "cell_type": "code",
   "execution_count": 3,
   "metadata": {},
   "outputs": [
    {
     "name": "stdout",
     "output_type": "stream",
     "text": [
      "12\n"
     ]
    }
   ],
   "source": [
    "#Kerjakan nomor 2 disini\n",
    "def vowel_letters_count(str):\n",
    "    str = str.lower()\n",
    "    kaps = str.count(\"a\") + str.count(\"i\") + str.count(\"u\") + str.count(\"e\") + str.count(\"o\")\n",
    "    return kaps\n",
    "\n",
    "    #Tuliskan kode kalian di bawah ini\n",
    "    #Hint: String yang akan dihitung jumlah huruf vokalnya pastikan sudah dalam keadaan\n",
    "    #Semuanya berhuruf kapital ataupun semuanya adalah huruf kecil\n",
    "print(vowel_letters_count(\"Mahasiswa Teknik Industri Angkatan 2021\"))\n",
    "    "
   ]
  },
  {
   "cell_type": "markdown",
   "metadata": {},
   "source": [
    "3. Fungsi replace_string merupakan fungsi yang berguna untuk mengganti substring lama pada input kalimat dengan substring baru namun fungsi ini hanya bekerja mengganti substring lama pada akhir kalimat. Salinlah kode berikut dan lengkapi kode yang masih rumpang sehingga menghasilkan output yang diharapkan\n",
    "![](./images/08_FungsiFungsiString03.png)"
   ]
  },
  {
   "cell_type": "code",
   "execution_count": 7,
   "metadata": {},
   "outputs": [
    {
     "name": "stdout",
     "output_type": "stream",
     "text": [
      "Budi memelihara 2 anjing dan 1 kucing\n",
      "Dia memperoleh banyak uang dengan cara menjual perhiasan berlian\n"
     ]
    }
   ],
   "source": [
    "#Kerjakan nomor 3 disini\n",
    "def replace_string(sentence, old, new):\n",
    "    if old in sentence:\n",
    "        i = sentence.index(old)\n",
    "        new_sentence = sentence[:i] + new + sentence [i + len(old):]\n",
    "        return new_sentence\n",
    "    return sentence\n",
    "\n",
    "print(replace_string(\"Budi memelihara 2 kucing dan 1 kucing\", \"kucing\", \"anjing\"))\n",
    "print(replace_string(\"Dia memperoleh banyak uang dengan cara menjual perhiasan berlian\", \"Berlian\", \"emas\"))"
   ]
  },
  {
   "cell_type": "markdown",
   "metadata": {},
   "source": [
    "4. Salinlah kode berikut dan lengkapi kode yang masih rumpang sehingga menghasilkan output yang diharapkan\n",
    "![](./images/08_FungsiFungsiString04.png)"
   ]
  },
  {
   "cell_type": "code",
   "execution_count": 18,
   "metadata": {},
   "outputs": [
    {
     "name": "stdout",
     "output_type": "stream",
     "text": [
      "kalimat1 sebelum perubahan:\n",
      "Praktikum Prokom\n",
      "\n",
      "kalimat1 setelah perubahan\n",
      "****Praktikum Prokom****\n"
     ]
    }
   ],
   "source": [
    "#Kerjakan nomor 4 disini\n",
    "kalimat1 = \"Praktikum Prokom\"\n",
    "#Buat kalimat1 berada di tengah dimana sisi kiri dan kanan diisi dengan karakter \"*\" masing-masing sejumlah 4\n",
    "print(\"kalimat1 sebelum perubahan:\")\n",
    "print(kalimat1)\n",
    "print(\"\\nkalimat1 setelah perubahan\")\n",
    "print(kalimat1.center(24,'*'))\n",
    "#Seharusnya muncul output \"****Praktium Prokom****\""
   ]
  },
  {
   "cell_type": "markdown",
   "metadata": {},
   "source": [
    "5. Salinlah kode berikut\n",
    "![](./images/08_FungsiFungsiString05.png)"
   ]
  },
  {
   "cell_type": "code",
   "execution_count": 36,
   "metadata": {},
   "outputs": [
    {
     "name": "stdout",
     "output_type": "stream",
     "text": [
      "Nomor indeks substring \"prokom\" pada kalimat2 adalah 17\n",
      "Nomor indeks huruf m pada substrinf \"prokom\" pada kalimat2 adalah 22\n",
      "Nomor indeks substring \"fisdas\" pada kalimat2 adalah 54\n",
      "Nomor indeks huruf d pada substring \"fisdas\" pada kalimat2 adalah 57\n"
     ]
    }
   ],
   "source": [
    "#Kerjakan nomor 5 disini\n",
    "kalimat2 = \"Selain praktikum prokom saya juga mengikuti praktikum fisdas\"\n",
    "print('Nomor indeks substring \"prokom\" pada kalimat2 adalah', kalimat2.find('prokom'))\n",
    "print('Nomor indeks huruf m pada substrinf \"prokom\" pada kalimat2 adalah', kalimat2.find('m', 17, 23))\n",
    "print('Nomor indeks substring \"fisdas\" pada kalimat2 adalah', kalimat2.index('fisdas'))\n",
    "print('Nomor indeks huruf d pada substring \"fisdas\" pada kalimat2 adalah', kalimat2.index('d', 54, 59))"
   ]
  },
  {
   "cell_type": "markdown",
   "metadata": {},
   "source": [
    "6. Untuk meningkatkan pemahaman kalian dalam fungsi-fungsi numerik, salin kode berikut dan lengkapi kode yang masih rumpang tersebut\n",
    "![](./images/08_FungsiFungsiNumerik.png)"
   ]
  },
  {
   "cell_type": "code",
   "execution_count": 4,
   "metadata": {},
   "outputs": [
    {
     "name": "stdout",
     "output_type": "stream",
     "text": [
      "Nilai mutlak bilangan1 adalah 4.39\n",
      "Hasil dari pembulatan ke bawah bilangan2 adalah 7\n",
      "Hasil pembulatan ke atas dari bilangan3 ialah 10\n",
      "Nilai maksimum dari tiga bilangan tersebut adalah 9.13\n",
      "Nilai manimum dari tiga bilangan tersebut adalah -4.39\n",
      "Nilai akar kuadrat dari bilangan3 adalah 3.0215889859476257\n",
      "random 1 choice = 4.39\n",
      "random 2 choice = 9.13\n",
      "random 3 choice = 7.51\n"
     ]
    }
   ],
   "source": [
    "#Kerjakan nomor 6 disini\n",
    "import math\n",
    "bilangan1 = -4.39\n",
    "bilangan2 = 7.51\n",
    "bilangan3 = 9.13\n",
    "#cetak nilai mutlak dari bilangan1\n",
    "print('Nilai mutlak bilangan1 adalah', math.fabs(bilangan1))\n",
    "#cetak hasil pembulatan ke bawah dari bilangan2\n",
    "print('Hasil dari pembulatan ke bawah bilangan2 adalah', math.floor(bilangan2))\n",
    "#cetak hasil pembulatan ke atas dari bilangan3\n",
    "print('Hasil pembulatan ke atas dari bilangan3 ialah', math.ceil(bilangan3))\n",
    "#cetak nilai maksimum dari tiga bilangan tersebut\n",
    "print('Nilai maksimum dari tiga bilangan tersebut adalah', max(bilangan1, bilangan2, bilangan3))\n",
    "#cetak nilai minimum dari tiga bilangan tersebut\n",
    "print('Nilai manimum dari tiga bilangan tersebut adalah', min(bilangan1, bilangan2, bilangan3))\n",
    "#cetak nilai akar kuadrat dari bilangan3\n",
    "print('Nilai akar kuadrat dari bilangan3 adalah', math.sqrt(bilangan3))\n",
    "#buat 3 random choice import random\n",
    "import random\n",
    "list = [4.39, 7.51, 9.13]\n",
    "print('random 1 choice =', random.choice(list))\n",
    "print('random 2 choice =', random.choice(list))\n",
    "print('random 3 choice =', random.choice(list))"
   ]
  },
  {
   "cell_type": "markdown",
   "metadata": {},
   "source": [
    "7. Untuk meningkatkan pemahaman kalian dalam fungsi-fungsi dictionary, salin kode berikut dan lengkapi kode yang masih rumpang tersebut\n",
    "![](./images/08_FungsiFungsiDictionary.png)"
   ]
  },
  {
   "cell_type": "code",
   "execution_count": 1,
   "metadata": {},
   "outputs": [
    {
     "name": "stdout",
     "output_type": "stream",
     "text": [
      "a = {'satu': 3, 'dua': 4, 'tiga': 5}\n",
      "b = {'satu': 3, 'dua': 4}\n",
      "Panjang dict a = 3\n",
      "Panjang dict b = 2\n",
      "Panjang dict a= 2\n",
      "panjang dict b= 1\n"
     ]
    }
   ],
   "source": [
    "#Kerjakan nomor 7 disini\n",
    "a = {'satu' : 3, 'dua' : 4, 'tiga' : 5}\n",
    "b = {'satu' : 3, 'dua' : 4}\n",
    "print(\"a =\", a)\n",
    "print(\"b =\", b)\n",
    "#cetak panjang dict a dan b\n",
    "print(\"Panjang dict a =\", len(a))\n",
    "print(\"Panjang dict b =\", len(b))\n",
    "#hapus elemen pada dict a dan b\n",
    "del a[\"satu\"]\n",
    "del b[\"dua\"]\n",
    "print(\"Panjang dict a=\", len(a))\n",
    "print(\"panjang dict b=\", len(b))"
   ]
  },
  {
   "cell_type": "markdown",
   "metadata": {},
   "source": [
    "8. Untuk meningkatkan pemahaman kalian dalam fungsi-fungsi list, salin kode berikut dan lengkapi kode yang masih rumpang tersebut\n",
    "![](./images/08_FungsiFungsiList01.png)\n",
    "![](./images/08_FungsiFungsiList02.png)"
   ]
  },
  {
   "cell_type": "code",
   "execution_count": 3,
   "metadata": {},
   "outputs": [
    {
     "name": "stdout",
     "output_type": "stream",
     "text": [
      "c setelah ditambah = [0, 2, 0, 7, 0, 7, 1, 7]\n",
      "jumlah nilai 0 = 3\n",
      "jumlah nilai 7 = 3\n",
      "index 2 = 1\n",
      "index 7 = 3\n",
      "c = [0, 2, 0, 7, 0, 7, 1]\n",
      "c = [0, 2, 0, 7, 0, 7]\n",
      "d = [14]\n",
      "d = [14, 27]\n",
      "d = [99, 14, 27]\n",
      "d = [99, 14, 16, 27]\n",
      "d = [99, 16]\n",
      "e = ['ai', 'oi', 'ei', 'au']\n",
      "e setelah di reverse = ['au', 'ei', 'oi', 'ai']\n",
      "e = ['ai', 'au', 'ei', 'oi']\n",
      "e = ['oi', 'ei', 'au', 'ai']\n"
     ]
    }
   ],
   "source": [
    "#Kerjakan nomor 8 disini\n",
    "c = [0, 2, 0, 7, 0, 7]\n",
    "#gunakan fungsi append untuk menambah angka 1 dan 7\n",
    "c.append(1)\n",
    "c.append(7)\n",
    "print(\"c setelah ditambah =\", c)\n",
    "#hitung jumlah nilai 0 dan 7\n",
    "print(\"jumlah nilai 0 =\", c.count(0))\n",
    "print(\"jumlah nilai 7 =\", c.count(7))\n",
    "#cari nomer indeks dari 2 dan 7 pada list c\n",
    "print(\"index 2 =\", c.index(2))\n",
    "print(\"index 7 =\", c.index(7))\n",
    "#hapus angka 7 pada list c yang terletak diakhir menggunakan fungsi pop\n",
    "c.pop()\n",
    "print(\"c =\", c)\n",
    "#hapus angka 1 pada list c menggunakan fungsi pop\n",
    "c.pop()\n",
    "print(\"c =\", c)\n",
    "d = [14]\n",
    "print(\"d =\", d)\n",
    "#menambah angka 27 pada list d\n",
    "d.append(27)\n",
    "print(\"d =\", d)\n",
    "#menambah angka 99 di posisi paling awal menggunakan insert\n",
    "d.insert(0, 99)\n",
    "print(\"d =\", d)\n",
    "#menambah angka 16 di posisi paling awal menggunakan insert\n",
    "d.insert(2, 16)\n",
    "print(\"d =\", d)\n",
    "#hapus angaka 14 dan 27 dengan remove\n",
    "d.remove(14)\n",
    "d.remove(27)\n",
    "print(\"d =\", d)\n",
    "e = [\"ai\", \"oi\", \"ei\", \"au\"]\n",
    "print(\"e =\", e)\n",
    "#reverse urutan e\n",
    "e.reverse()\n",
    "print(\"e setelah di reverse =\", e)\n",
    "#sort list e secara ascending\n",
    "e.sort()\n",
    "print(\"e =\", e)\n",
    "#sort list e secara descending\n",
    "e.sort(reverse=True)\n",
    "print(\"e =\", e)"
   ]
  },
  {
   "cell_type": "markdown",
   "metadata": {},
   "source": [
    "### Cara Pengumpulan\n",
    "\n",
    "1. Buka *New Terminal*\n",
    "2. Pastikan *path* Terminal adalah folder repositori kalian (NIM-Nama-Prokom).\n",
    "3. Tambahkan file yang akan ditrack dengan `git add <nama file>`. Nama file bisa diubah . (titik) yang artinya semua file dalam folder akan ditrack.\n",
    "4. Lakukan commit perubahan dengan `git commit -m <deskripsi>`.\n",
    "5. Lakukan push dengan `git push -u origin <nama branch>`. Nama branch dapat diketahui dengan `git branch`.\n",
    "6. Pastikan Exercise-08 telah terupload dan dapat diakses di repositori dengan mengaksesnya di browser."
   ]
  },
  {
   "cell_type": "markdown",
   "metadata": {},
   "source": [
    "***\n",
    "<h1 align=\"center\">Well Done!!!</h1> \n",
    "\n",
    "***"
   ]
  }
 ],
 "metadata": {
  "interpreter": {
   "hash": "df95319d8ce4e1d89f5365ae10992bc1f65da593082b1d264e8f529830ec2f02"
  },
  "kernelspec": {
   "display_name": "Python 3.10.2 64-bit",
   "language": "python",
   "name": "python3"
  },
  "language_info": {
   "codemirror_mode": {
    "name": "ipython",
    "version": 3
   },
   "file_extension": ".py",
   "mimetype": "text/x-python",
   "name": "python",
   "nbconvert_exporter": "python",
   "pygments_lexer": "ipython3",
   "version": "3.10.2"
  },
  "orig_nbformat": 4
 },
 "nbformat": 4,
 "nbformat_minor": 2
}
