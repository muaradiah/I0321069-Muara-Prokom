{
 "cells": [
  {
   "cell_type": "markdown",
   "metadata": {},
   "source": [
    "***\n",
    "<h1 align=\"center\">Exercise 12</h1>\n",
    " \n",
    "***\n",
    "## Exeption\n",
    "## Exercise 12.1\n",
    "\n",
    "Salinlah code yang ada pada contoh 12.1"
   ]
  },
  {
   "cell_type": "code",
   "execution_count": 1,
   "metadata": {},
   "outputs": [
    {
     "name": "stdout",
     "output_type": "stream",
     "text": [
      "An Exception occurred\n"
     ]
    }
   ],
   "source": [
    "#kerjakan disini\n",
    "\n",
    "#the try block will generate an error, because x is not defined:\n",
    "\n",
    "try:\n",
    "    print (x)\n",
    "except:\n",
    "    print (\"An Exception occurred\")"
   ]
  },
  {
   "cell_type": "markdown",
   "metadata": {},
   "source": [
    "## Exercise 12.2\n",
    "\n",
    "Salinlah code yang ada pada contoh 12.2"
   ]
  },
  {
   "cell_type": "code",
   "execution_count": 2,
   "metadata": {},
   "outputs": [
    {
     "name": "stdout",
     "output_type": "stream",
     "text": [
      "teknik\n"
     ]
    }
   ],
   "source": [
    "#kerjakan disini\n",
    "\n",
    "#the try block will generate an error, because x is not defined:\n",
    "\n",
    "try:\n",
    "    x = \"teknik\"\n",
    "    print (x)\n",
    "\n",
    "except:\n",
    "    print (\"An exception occurred\")"
   ]
  },
  {
   "cell_type": "markdown",
   "metadata": {},
   "source": [
    "## Exercise 12.3\n",
    "\n",
    "Salinlah code yang ada pada contoh 12.3"
   ]
  },
  {
   "cell_type": "code",
   "execution_count": 6,
   "metadata": {},
   "outputs": [
    {
     "ename": "SyntaxError",
     "evalue": "Missing parentheses in call to 'print'. Did you mean print(...)? (3057622298.py, line 6)",
     "output_type": "error",
     "traceback": [
      "\u001b[1;36m  Input \u001b[1;32mIn [6]\u001b[1;36m\u001b[0m\n\u001b[1;33m    print '\\nKenapa sudah EOF?'\u001b[0m\n\u001b[1;37m    ^\u001b[0m\n\u001b[1;31mSyntaxError\u001b[0m\u001b[1;31m:\u001b[0m Missing parentheses in call to 'print'. Did you mean print(...)?\n"
     ]
    }
   ],
   "source": [
    "#kerjakan disini\n",
    "\n",
    "try:\n",
    "    teks = raw_input ('Ketikkan sesuatu: ')\n",
    "except EOFError:\n",
    "    print '\\nKenapa sudah EOF?'\n",
    "except KeyboardInterrupt:\n",
    "    print '\\nAnda membatalkan operasi'\n",
    "else:\n",
    "    print 'Anda mengetikkan \"%s\" ' % teks"
   ]
  },
  {
   "cell_type": "markdown",
   "metadata": {},
   "source": [
    "## Exercise 12.4\n",
    "\n",
    "Salinlah code yang ada pada contoh 12.4"
   ]
  },
  {
   "cell_type": "code",
   "execution_count": 7,
   "metadata": {},
   "outputs": [
    {
     "ename": "SyntaxError",
     "evalue": "Missing parentheses in call to 'print'. Did you mean print(...)? (2452950705.py, line 6)",
     "output_type": "error",
     "traceback": [
      "\u001b[1;36m  Input \u001b[1;32mIn [7]\u001b[1;36m\u001b[0m\n\u001b[1;33m    print '\\nKenapa sudah EOF?'\u001b[0m\n\u001b[1;37m    ^\u001b[0m\n\u001b[1;31mSyntaxError\u001b[0m\u001b[1;31m:\u001b[0m Missing parentheses in call to 'print'. Did you mean print(...)?\n"
     ]
    }
   ],
   "source": [
    "#kerjakan disini\n",
    "\n",
    "try:\n",
    "    teks = raw_input('Ketikkan sesuatu: ')\n",
    "except EOFError:\n",
    "    print '\\nKenapa sudah EOF?'\n",
    "except KeyboardInterrupt:\n",
    "    print '\\nAnda membataslkan operasi'\n",
    "else:\n",
    "    print 'Anda mengetikkan \"%s\" ' % teks"
   ]
  },
  {
   "cell_type": "markdown",
   "metadata": {},
   "source": [
    "## Exercise 12.5\n",
    "\n",
    "Salinlah code yang ada pada contoh 12.5"
   ]
  },
  {
   "cell_type": "code",
   "execution_count": 9,
   "metadata": {},
   "outputs": [
    {
     "ename": "SyntaxError",
     "evalue": "Missing parentheses in call to 'print'. Did you mean print(...)? (1530765271.py, line 12)",
     "output_type": "error",
     "traceback": [
      "\u001b[1;36m  Input \u001b[1;32mIn [9]\u001b[1;36m\u001b[0m\n\u001b[1;33m    print baris,\u001b[0m\n\u001b[1;37m    ^\u001b[0m\n\u001b[1;31mSyntaxError\u001b[0m\u001b[1;31m:\u001b[0m Missing parentheses in call to 'print'. Did you mean print(...)?\n"
     ]
    }
   ],
   "source": [
    "#kerjakan disini\n",
    "\n",
    "import time\n",
    "\n",
    "try:\n",
    "    f = open('coba.txt')\n",
    "    while True:\n",
    "        baris = f.readline()\n",
    "        if len(baris) == 0:\n",
    "            #EOF\n",
    "            break\n",
    "        print baris,\n",
    "        time.sleep(2) #delay 2 detik\n",
    "except KeyboardInterrupt:\n",
    "    print '\\nAnda membatalkan operasi'\n",
    "finally:\n",
    "    f.close()\n",
    "    print '\\nfile ditutup'"
   ]
  },
  {
   "cell_type": "markdown",
   "metadata": {},
   "source": [
    "***\n",
    "<h1 align=\"center\">WELL DONE</h1>\n",
    " \n",
    "***"
   ]
  }
 ],
 "metadata": {
  "interpreter": {
   "hash": "df95319d8ce4e1d89f5365ae10992bc1f65da593082b1d264e8f529830ec2f02"
  },
  "kernelspec": {
   "display_name": "Python 3.10.2 64-bit",
   "language": "python",
   "name": "python3"
  },
  "language_info": {
   "codemirror_mode": {
    "name": "ipython",
    "version": 3
   },
   "file_extension": ".py",
   "mimetype": "text/x-python",
   "name": "python",
   "nbconvert_exporter": "python",
   "pygments_lexer": "ipython3",
   "version": "3.10.2"
  },
  "orig_nbformat": 4
 },
 "nbformat": 4,
 "nbformat_minor": 2
}
